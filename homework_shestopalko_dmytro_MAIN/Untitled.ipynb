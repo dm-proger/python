{
 "cells": [
  {
   "cell_type": "code",
   "execution_count": null,
   "id": "4f1c73a1-f0b5-467d-8d5b-c5f10180ea05",
   "metadata": {},
   "outputs": [],
   "source": [
    "message = \"Hello world again\"\n",
    "print(message)"
   ]
  },
  {
   "cell_type": "code",
   "execution_count": null,
   "id": "3f8ea48d-cf66-49ea-a8db-f125e747e014",
   "metadata": {},
   "outputs": [],
   "source": []
  },
  {
   "cell_type": "code",
   "execution_count": null,
   "id": "ffe8f27d-3cb7-4b42-81dc-9d9f72464490",
   "metadata": {},
   "outputs": [],
   "source": []
  }
 ],
 "metadata": {
  "kernelspec": {
   "display_name": "",
   "name": ""
  },
  "language_info": {
   "name": ""
  }
 },
 "nbformat": 4,
 "nbformat_minor": 5
}
